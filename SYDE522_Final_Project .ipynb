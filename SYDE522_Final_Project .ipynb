{
  "nbformat": 4,
  "nbformat_minor": 0,
  "metadata": {
    "colab": {
      "provenance": []
    },
    "kernelspec": {
      "name": "python3",
      "display_name": "Python 3"
    },
    "language_info": {
      "name": "python"
    }
  },
  "cells": [
    {
      "cell_type": "code",
      "source": [
        "import pandas as pd\n",
        "import matplotlib.pyplot as plt\n",
        "import numpy as np"
      ],
      "metadata": {
        "id": "9RwsgMbQ9weQ"
      },
      "execution_count": 1,
      "outputs": []
    },
    {
      "cell_type": "markdown",
      "source": [
        "Importing the databases that we need\n"
      ],
      "metadata": {
        "id": "EJOuf5kj83Py"
      }
    },
    {
      "cell_type": "code",
      "source": [
        "# loading in statistics for college players\n",
        "college_stats = pd.read_csv('all_college_data.csv')\n",
        "\n",
        "# removing college players that were not drafted\n",
        "college_stats = college_stats[college_stats['Pick'].notna()]\n",
        "\n",
        "# dropping all the coloumns that are not going to be used in estimation\n",
        "cols = ['Player', 'Pick', 'GP', 'MPG', 'WS', 'ORB', 'DRB', 'APG', 'BPG', 'SPG', 'FTM', 'FT%', '3PM', '3P%', 'TS%', 'TOV', 'eFG%', 'ORtg', 'DRtg']\n",
        "college_stats = college_stats[cols]\n",
        "\n",
        "# loading in career stats for NBA\n",
        "# these include averages of culmulative season from 2009 to 2021\n",
        "# not exactly career averages, but a good enough span for young players\n",
        "nba_stats = pd.read_csv('NBA_data.csv')\n",
        "\n",
        "# removing all columns except Player efficiency rating (PER) which is our target\n",
        "nba_stats = nba_stats[['Player', 'PER']]\n",
        "\n",
        "# joining college stats on player Name to add target of PER\n",
        "data = college_stats.set_index('Player').join(nba_stats.set_index('Player'))\n",
        "data.reset_index(inplace=True)\n",
        "\n",
        "\n",
        "# making sure we have a PER for every player in our data set, remove those who don't \n",
        "data = data[data['PER'].notna()]\n",
        "data = data.sort_values(by=['Player'])\n",
        "\n",
        "data.describe()"
      ],
      "metadata": {
        "id": "2aLhTXU1DrK1"
      },
      "execution_count": null,
      "outputs": []
    },
    {
      "cell_type": "markdown",
      "source": [
        "Cleaning the Data"
      ],
      "metadata": {
        "id": "_jfVu1afZJBW"
      }
    },
    {
      "cell_type": "code",
      "source": [
        "# filling in means for NaN values in stats\n",
        "# not many NaN values, because we are taking drafted players only(i.e. high value players, which typically have complete statistics)\n",
        "# therefore mean is appropriate\n",
        "\n",
        "# we do not do this for picks over PER cause we already filter out NaN values for them\n",
        "cols_to_adjust = cols[2:]\n",
        "\n",
        "\n",
        "for col in cols_to_adjust:\n",
        "   data[col] = data[col].fillna(data[col].mean())\n",
        "\n",
        "data.describe() # cleaned data"
      ],
      "metadata": {
        "id": "IRMqWgDQZNz5"
      },
      "execution_count": null,
      "outputs": []
    },
    {
      "cell_type": "markdown",
      "source": [
        "Correlation Matrix"
      ],
      "metadata": {
        "id": "XCSVBq5fDWXf"
      }
    },
    {
      "cell_type": "code",
      "source": [
        "corr = data.corr().abs()\n",
        "corr.style.background_gradient(cmap='coolwarm').set_precision(2)"
      ],
      "metadata": {
        "id": "PG0Vcp8HDZ4P"
      },
      "execution_count": null,
      "outputs": []
    },
    {
      "cell_type": "markdown",
      "source": [
        "Splitting the Data"
      ],
      "metadata": {
        "id": "eoz2uJss1KLs"
      }
    },
    {
      "cell_type": "code",
      "source": [
        "from sklearn.model_selection import train_test_split, cross_val_score, KFold\n",
        "from sklearn.metrics import mean_squared_error\n",
        "\n",
        "\n",
        "# we remove pick as the goal is to determine the value of a college prospect\n",
        "# therefore their draft order cannot be considered although it has a high correlation\n",
        "X = data.drop(['Pick','Player', 'PER'], axis = 1)\n",
        "y = data['PER']\n",
        "\n",
        "# split the data into train and test set\n",
        "X_train, X_test, y_train, y_test = train_test_split(X, y, test_size = 0.3, random_state = 0)\n",
        "\n",
        "X_train"
      ],
      "metadata": {
        "id": "Syu0GSDo1L4C"
      },
      "execution_count": null,
      "outputs": []
    },
    {
      "cell_type": "markdown",
      "source": [
        "Preprocessing Data"
      ],
      "metadata": {
        "id": "qQjf5Lzy7_vD"
      }
    },
    {
      "cell_type": "code",
      "source": [
        "from sklearn import preprocessing\n",
        "\n",
        "# defining an object of MinMaxScaler()\n",
        "min_max_scaler = preprocessing.MinMaxScaler()\n",
        "\n",
        "# normalize values between 0 and 1 using the training data\n",
        "X_train_scaled = min_max_scaler.fit_transform(X_train)\n",
        "\n",
        "# visualizing shape of scaled data\n",
        "X_train_scaled.shape"
      ],
      "metadata": {
        "colab": {
          "base_uri": "https://localhost:8080/"
        },
        "id": "e-PijEzW8k_S",
        "outputId": "7ce72f02-69a9-40cb-9840-4126aeaef0e8"
      },
      "execution_count": 6,
      "outputs": [
        {
          "output_type": "execute_result",
          "data": {
            "text/plain": [
              "(260, 17)"
            ]
          },
          "metadata": {},
          "execution_count": 6
        }
      ]
    },
    {
      "cell_type": "markdown",
      "source": [
        "Linear Regression"
      ],
      "metadata": {
        "id": "5QB1BQsW9r64"
      }
    },
    {
      "cell_type": "code",
      "source": [
        "from sklearn import linear_model\n",
        "from sklearn.model_selection import cross_validate\n",
        "\n",
        "# defining the model as an object of LinearRegression()\n",
        "lin_model = linear_model.Lasso(alpha=0.1)\n",
        "\n",
        "# fit the model on the scaled training data\n",
        "lin_model.fit(X_train_scaled, y_train)\n",
        "\n",
        "# calculate the coefficient of determination R^2\n",
        "lin_model.score(X_train_scaled, y_train)"
      ],
      "metadata": {
        "colab": {
          "base_uri": "https://localhost:8080/"
        },
        "id": "7X33Dn609qmx",
        "outputId": "6c94d8c7-30f5-46bf-d267-4c3940717ccd"
      },
      "execution_count": 7,
      "outputs": [
        {
          "output_type": "execute_result",
          "data": {
            "text/plain": [
              "0.5619461713410905"
            ]
          },
          "metadata": {},
          "execution_count": 7
        }
      ]
    },
    {
      "cell_type": "code",
      "source": [
        "# Model evaluation with normalization using test set \n",
        "min_max_scaler_2 = preprocessing.MinMaxScaler()\n",
        "\n",
        "X_test_scaled = min_max_scaler_2.fit_transform(X_test)\n",
        "\n",
        "# calculate the R^2 score\n",
        "lin_model.score(X_test_scaled, y_test)"
      ],
      "metadata": {
        "colab": {
          "base_uri": "https://localhost:8080/"
        },
        "id": "D5FpMQTara3d",
        "outputId": "68924605-71c4-484e-fda9-b8eb9ebbfada"
      },
      "execution_count": 8,
      "outputs": [
        {
          "output_type": "execute_result",
          "data": {
            "text/plain": [
              "0.3657821341659908"
            ]
          },
          "metadata": {},
          "execution_count": 8
        }
      ]
    },
    {
      "cell_type": "code",
      "source": [
        "# calculate the predicted values for training data\n",
        "y_pred_train = lin_model.predict(X_train_scaled)\n",
        "\n",
        "# visualize the difference between actual and predicted data using scatter plot\n",
        "plt.scatter(y_train, y_pred_train)\n",
        "plt.xlabel(\"Actual value\")\n",
        "plt.ylabel(\"Predicted value\")\n",
        "plt.title(\"Actual vs. Predicted - Train Set\")\n",
        "plt.show()"
      ],
      "metadata": {
        "colab": {
          "base_uri": "https://localhost:8080/",
          "height": 472
        },
        "id": "SIN8cIKyGCY4",
        "outputId": "5ae521cc-cdad-4a02-ff6d-b8bc3f3ef520"
      },
      "execution_count": 9,
      "outputs": [
        {
          "output_type": "display_data",
          "data": {
            "text/plain": [
              "<Figure size 640x480 with 1 Axes>"
            ],
            "image/png": "[encoded data removed]"
          },
          "metadata": {}
        }
      ]
    },
    {
      "cell_type": "code",
      "source": [
        "# calculate the predicted values for test data\n",
        "y_pred_test = lin_model.predict(X_test_scaled)\n",
        "\n",
        "# visualize the difference between actual and predicted data using scatter plot\n",
        "plt.scatter(y_test, y_pred_test)\n",
        "plt.xlabel(\"Actual value\")\n",
        "plt.ylabel(\"Predicted value\")\n",
        "plt.title(\"Actual vs. Predicted - Test Set\")\n",
        "plt.show()"
      ],
      "metadata": {
        "id": "eTSuEovlc8ow"
      },
      "execution_count": null,
      "outputs": []
    },
    {
      "cell_type": "code",
      "source": [
        "from sklearn.tree import DecisionTreeRegressor\n",
        "from sklearn.ensemble import AdaBoostRegressor\n",
        "from sklearn.metrics import mean_squared_error, r2_score\n",
        "import matplotlib.pyplot as plt\n",
        "from sklearn.tree import DecisionTreeRegressor\n",
        "from sklearn.metrics import confusion_matrix, ConfusionMatrixDisplay, accuracy_score\n",
        "from sklearn.metrics import mean_squared_error, r2_score\n",
        "from xgboost.sklearn import XGBRegressor\n",
        "from sklearn.ensemble import AdaBoostRegressor\n",
        "from sklearn.model_selection import GridSearchCV\n",
        "import warnings\n",
        "warnings.simplefilter(action='ignore', category=FutureWarning)\n",
        "\n",
        "# Create decision tree model instance\n",
        "clf = DecisionTreeRegressor(random_state=0)\n",
        "param = {'max_depth': [3,4,5,6,7]}\n",
        "grid_search = GridSearchCV(clf, param, cv=5, scoring='neg_mean_squared_error')\n",
        "grid_search.fit(X_train, y_train)\n",
        "print(\"Best parameters for Decision Tree Regression (LDA):\", grid_search.best_params_)\n",
        "\n",
        "#The grid search showed that the max depth parameter should be 3\n",
        "clf = DecisionTreeRegressor(max_depth=6, random_state=0)\n",
        "\n",
        "\n",
        "# Create AdaBoost model instance with decision tree as the base estimator\n",
        "model = AdaBoostRegressor(base_estimator=clf, random_state=0)\n",
        "param = {'n_estimators': [25,50,75,100,125,150,175,200], 'learning_rate': [0.001,0.01,0.1,1]}\n",
        "# grid_search = GridSearchCV(model, param, cv=5, scoring='neg_mean_squared_error')\n",
        "# grid_search.fit(X_train, y_train)\n",
        "#print(\"Best parameters for Decision Tree Regression (LDA):\", grid_search.best_params_)\n",
        "\n",
        "# Fit the AdaBoost model to the training data\n",
        "model = AdaBoostRegressor(base_estimator=clf, random_state=0, learning_rate=1, n_estimators=150)\n",
        "model.fit(X_train, y_train)\n",
        "\n",
        "# Predict on the training and test set\n",
        "y_pred_train = model.predict(X_train)\n",
        "y_pred_test = model.predict(X_test)\n",
        "\n",
        "# Print the mean squared error and R^2 score for the test set\n",
        "print('Test MSE: {0:0.4f}'. format(mean_squared_error(y_test, y_pred_test)))\n",
        "print('Test R^2: {0:0.4f}'. format(r2_score(y_test, y_pred_test)))\n",
        "\n",
        "# Create scatter plot of actual vs predicted values for test set\n",
        "plt.scatter(y_test, y_pred_test)\n",
        "plt.xlabel('Actual Values')\n",
        "plt.ylabel('Predicted Values')\n",
        "plt.title('Actual vs Predicted Values')\n",
        "plt.show()\n"
      ],
      "metadata": {
        "colab": {
          "base_uri": "https://localhost:8080/",
          "height": 524
        },
        "id": "dUN8rc0vv09D",
        "outputId": "2398367b-6d6a-48b9-cb3f-6e1219e59e12"
      },
      "execution_count": 57,
      "outputs": [
        {
          "output_type": "stream",
          "name": "stdout",
          "text": [
            "Best parameters for Decision Tree Regression (LDA): {'max_depth': 3}\n",
            "Test MSE: 6.8940\n",
            "Test R^2: 0.5605\n"
          ]
        },
        {
          "output_type": "display_data",
          "data": {
            "text/plain": [
              "<Figure size 640x480 with 1 Axes>"
            ],
            "image/png": "[encoded data removed]"
          },
          "metadata": {}
        }
      ]
    },
    {
      "cell_type": "code",
      "source": [
        "from sklearn.tree import DecisionTreeRegressor\n",
        "from sklearn.ensemble import AdaBoostRegressor\n",
        "from sklearn.model_selection import GridSearchCV\n",
        "import warnings\n",
        "warnings.simplefilter(action='ignore', category=FutureWarning)\n",
        "\n",
        "#Following code is done for LDA\n",
        "\n",
        "#Note testing was done prior, and the best paramaters were the following:\n",
        "#Max Depth = 5, Learning Rate = 0.001 and N_Estimators = 200\n",
        "#The following code only runs it for these 3 hyperparameters\n",
        "\n",
        "#Performs Pruning to find the best maximum depth for the decision tree\n",
        "treeLDAPruning = DecisionTreeRegressor(max_depth = 3)\n",
        "param_grid_lda_pruning = {'max_depth': [3,4,5,6,7]} \n",
        "grid_search = GridSearchCV(treeLDAPruning, param_grid_lda_pruning, cv=5, scoring='neg_mean_squared_error')\n",
        "grid_search.fit(X_train, y_train)\n",
        "\n",
        "#Outputs value and creates the new decision tree\n",
        "print(\"Best parameters for Decision Tree Regression (LDA):\", grid_search.best_params_)\n",
        "bestTreePruning = grid_search.best_estimator_\n",
        "\n",
        "print('Testing accuracy: ', grid_search.score(X_train, y_train))\n",
        "print('Validation Accuracy: ', grid_search.best_score_)\n",
        "\n",
        "# Performs boosting\n",
        "ada = AdaBoostRegressor(base_estimator=treeLDAPruning, random_state=42)\n",
        "param_grid_lda_boosting = {'n_estimators': [25,50,75,100,125,150,175,200], 'learning_rate': [0.001,0.01,0.1,1]}\n",
        "grid_search = GridSearchCV(ada, param_grid_lda_boosting, cv=5, scoring='neg_mean_squared_error')\n",
        "grid_search.fit(X_train, y_train)\n",
        "\n",
        "#Outputs the best hyperparameters (for learning rate and number of estimators) for boosting\n",
        "print(\"Best parameters for AdaBoost (LDA):\", grid_search.best_params_)\n",
        "bestTreeBoosting = grid_search.best_estimator_\n",
        "\n",
        "# Evaluates performance of best model on test set\n",
        "Y_pred_lda = bestTreeBoosting.predict(X_test)\n",
        "r2_lda = r2_score(y_test, Y_pred_lda)\n",
        "print(\"Test set performance LDA (R^2):\", r2_lda)\n",
        "mse_lda = mean_squared_error(y_test, Y_pred_lda)\n",
        "print(\"Test set performance LDA (MSE):\", mse_lda)"
      ],
      "metadata": {
        "colab": {
          "base_uri": "https://localhost:8080/"
        },
        "id": "7_aex3x448p5",
        "outputId": "0ecfe824-3e8b-4a3f-ccc4-52c19352feac"
      },
      "execution_count": 55,
      "outputs": [
        {
          "output_type": "stream",
          "name": "stdout",
          "text": [
            "Best parameters for Decision Tree Regression (LDA): {'max_depth': 3}\n",
            "Testing accuracy:  -8.472147100604259\n",
            "Validation Accuracy:  -15.46449196796336\n",
            "Best parameters for AdaBoost (LDA): {'learning_rate': 1, 'n_estimators': 150}\n",
            "Test set performance LDA (R^2): 0.4773288845155983\n",
            "Test set performance LDA (MSE): 8.198366032000804\n"
          ]
        }
      ]
    },
    {
      "cell_type": "code",
      "source": [],
      "metadata": {
        "id": "xD4o4AT026zT"
      },
      "execution_count": null,
      "outputs": []
    }
  ]
}