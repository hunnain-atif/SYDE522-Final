{
  "nbformat": 4,
  "nbformat_minor": 0,
  "metadata": {
    "colab": {
      "provenance": []
    },
    "kernelspec": {
      "name": "python3",
      "display_name": "Python 3"
    },
    "language_info": {
      "name": "python"
    }
  },
  "cells": [
    {
      "cell_type": "code",
      "source": [
        "import pandas as pd\n",
        "import matplotlib.pyplot as plt\n",
        "import numpy as np"
      ],
      "metadata": {
        "id": "9RwsgMbQ9weQ"
      },
      "execution_count": 1,
      "outputs": []
    },
    {
      "cell_type": "markdown",
      "source": [
        "Importing the databases that we need\n"
      ],
      "metadata": {
        "id": "EJOuf5kj83Py"
      }
    },
    {
      "cell_type": "code",
      "source": [
        "# loading in statistics for college players\n",
        "college_stats = pd.read_csv('all_college_data.csv')\n",
        "\n",
        "# removing college players that were not drafted and don't have advanced stats\n",
        "college_stats = college_stats[college_stats['Pick'].notna()]\n",
        "college_stats = college_stats.dropna(subset = ['PER'])\n",
        "\n",
        "# dropping all the coloumns that are not going to be used in estimation\n",
        "cols = ['Player', 'Pick', 'GP', 'MPG', 'PER', 'ORB', 'DRB', 'APG', 'BPG', 'SPG', 'FTM', 'FT%', '3PM', '3P%', 'TS%', 'TOV', 'eFG%', 'ORtg', 'DRtg']\n",
        "college_stats = college_stats[cols]\n",
        "\n",
        "# loading in career stats for NBA\n",
        "nba_stats = pd.read_csv('draft-data-20-years.csv')\n",
        "\n",
        "# removing all columns except win share which is our target\n",
        "nba_stats = nba_stats[['Player', 'WS']]\n",
        "\n",
        "# joining college stats on player Name to add target of WS\n",
        "data = college_stats.set_index('Player').join(nba_stats.set_index('Player'))\n",
        "data.reset_index(inplace=True)\n",
        "\n",
        "\n",
        "# making sure we have a WS for every player in our data set, remove those who don't \n",
        "data = data[data['WS'].notna()]\n",
        "\n",
        "data"
      ],
      "metadata": {
        "id": "2aLhTXU1DrK1"
      },
      "execution_count": null,
      "outputs": []
    },
    {
      "cell_type": "markdown",
      "source": [
        "Cleaning the Data"
      ],
      "metadata": {
        "id": "_jfVu1afZJBW"
      }
    },
    {
      "cell_type": "code",
      "source": [
        "# filling in means for NaN values in stats\n",
        "# not many NaN values, because we are taking drafted players only(i.e. high value players, which typically have complete statistics)\n",
        "# therefore mean is appropriate\n",
        "\n",
        "# we do not do this for picks over WS cause we already filter out NaN values for them\n",
        "cols = ['Player', 'Pick', 'GP', 'MPG', 'PER', 'ORB', 'DRB', 'APG', 'BPG', 'SPG', 'FTM', 'FT%', '3PM', '3P%', 'TS%', 'TOV', 'eFG%', 'ORtg', 'ORtg']\n",
        "cols_to_adjust = cols[1:]\n",
        "\n",
        "for col in cols_to_adjust:\n",
        "  data[col] = data[col].fillna(data[col].mean())\n",
        "\n",
        "data.head() # cleaned data"
      ],
      "metadata": {
        "id": "IRMqWgDQZNz5"
      },
      "execution_count": null,
      "outputs": []
    },
    {
      "cell_type": "markdown",
      "source": [
        "Correlation Matrix"
      ],
      "metadata": {
        "id": "XCSVBq5fDWXf"
      }
    },
    {
      "cell_type": "code",
      "source": [
        "corr = data.corr().abs()\n",
        "corr.style.background_gradient(cmap='coolwarm').set_precision(2)"
      ],
      "metadata": {
        "id": "PG0Vcp8HDZ4P"
      },
      "execution_count": null,
      "outputs": []
    },
    {
      "cell_type": "markdown",
      "source": [
        "Splitting the Data"
      ],
      "metadata": {
        "id": "eoz2uJss1KLs"
      }
    },
    {
      "cell_type": "code",
      "source": [
        "from sklearn.model_selection import train_test_split, cross_val_score, KFold\n",
        "from sklearn.metrics import mean_squared_error\n",
        "\n",
        "\n",
        "# we remove pick as the goal is to determine the value of a college prospect\n",
        "# therefore their draft order cannot be considered although it has a high correlation\n",
        "X = data.drop(['Pick','Player', 'WS'], axis = 1)\n",
        "y = data['WS']\n",
        "\n",
        "# split the data into train and test set\n",
        "X_train, X_test, y_train, y_test = train_test_split(X, y, test_size = 0.3, random_state = 0)\n",
        "\n",
        "X_train"
      ],
      "metadata": {
        "id": "Syu0GSDo1L4C"
      },
      "execution_count": null,
      "outputs": []
    },
    {
      "cell_type": "markdown",
      "source": [
        "Preprocessing Data"
      ],
      "metadata": {
        "id": "qQjf5Lzy7_vD"
      }
    },
    {
      "cell_type": "code",
      "source": [
        "from sklearn import preprocessing\n",
        "\n",
        "# defining an object of MinMaxScaler()\n",
        "min_max_scaler = preprocessing.MinMaxScaler()\n",
        "\n",
        "# normalize values between 0 and 1 using the training data\n",
        "X_train_scaled = min_max_scaler.fit_transform(X_train)\n",
        "\n",
        "# visualizing shape of scaled data\n",
        "X_train_scaled.shape"
      ],
      "metadata": {
        "colab": {
          "base_uri": "https://localhost:8080/"
        },
        "id": "e-PijEzW8k_S",
        "outputId": "41113d05-5670-46d4-8784-e4aabf374aab"
      },
      "execution_count": 7,
      "outputs": [
        {
          "output_type": "execute_result",
          "data": {
            "text/plain": [
              "(286, 17)"
            ]
          },
          "metadata": {},
          "execution_count": 7
        }
      ]
    },
    {
      "cell_type": "markdown",
      "source": [
        "Linear Regression"
      ],
      "metadata": {
        "id": "5QB1BQsW9r64"
      }
    },
    {
      "cell_type": "code",
      "source": [
        "from sklearn import linear_model\n",
        "from sklearn.model_selection import cross_validate\n",
        "\n",
        "# defining the model as an object of LinearRegression()\n",
        "lin_model = linear_model.LinearRegression()\n",
        "\n",
        "# fit the model on the scaled training data\n",
        "lin_model.fit(X_train_scaled, y_train)\n",
        "\n",
        "# calculating scores\n",
        "lin_model.score(X_train_scaled, y_train)"
      ],
      "metadata": {
        "colab": {
          "base_uri": "https://localhost:8080/"
        },
        "id": "7X33Dn609qmx",
        "outputId": "970a93ae-e323-4a74-ddd0-b926b7c6ffab"
      },
      "execution_count": 8,
      "outputs": [
        {
          "output_type": "execute_result",
          "data": {
            "text/plain": [
              "0.13630552875816937"
            ]
          },
          "metadata": {},
          "execution_count": 8
        }
      ]
    },
    {
      "cell_type": "code",
      "source": [
        "# calculate the predicted values for training data\n",
        "y_pred_train = lin_model.predict(X_train_scaled)\n",
        "\n",
        "# visualize the difference between actual and predicted data using scatter plot\n",
        "plt.scatter(y_train, y_pred_train)\n",
        "plt.xlabel(\"Actual value\")\n",
        "plt.ylabel(\"Predicted value\")\n",
        "plt.title(\"Actual vs. Predicted - Train Set\")\n",
        "plt.show()"
      ],
      "metadata": {
        "id": "SIN8cIKyGCY4"
      },
      "execution_count": null,
      "outputs": []
    },
    {
      "cell_type": "markdown",
      "source": [
        "Decision Tree"
      ],
      "metadata": {
        "id": "5iKefkbSkT-p"
      }
    },
    {
      "cell_type": "code",
      "source": [
        "from sklearn.tree import DecisionTreeRegressor\n",
        "from sklearn.ensemble import AdaBoostRegressor\n",
        "from sklearn.metrics import mean_squared_error, r2_score\n",
        "import matplotlib.pyplot as plt\n",
        "from sklearn.tree import DecisionTreeRegressor\n",
        "from sklearn.metrics import confusion_matrix, ConfusionMatrixDisplay, accuracy_score\n",
        "from sklearn.metrics import mean_squared_error, r2_score\n",
        "from xgboost.sklearn import XGBRegressor\n",
        "from sklearn.ensemble import AdaBoostRegressor\n",
        "\n",
        "# Create decision tree model instance\n",
        "clf = DecisionTreeRegressor(max_depth=5, random_state=0)\n",
        "\n",
        "# Create AdaBoost model instance with decision tree as the base estimator\n",
        "model = AdaBoostRegressor(base_estimator=clf, random_state=0)\n",
        "\n",
        "# Fit the AdaBoost model to the training data\n",
        "model.fit(X_train, y_train)\n",
        "\n",
        "# Predict on the training and test set\n",
        "y_pred_train = model.predict(X_train)\n",
        "y_pred_test = model.predict(X_test)\n",
        "\n",
        "# Print the mean squared error and R^2 score for the test set\n",
        "print('Test MSE: {0:0.4f}'. format(mean_squared_error(y_test, y_pred_test)))\n",
        "print('Test R^2: {0:0.4f}'. format(r2_score(y_test, y_pred_test)))\n",
        "\n",
        "# Create scatter plot of actual vs predicted values for test set\n",
        "plt.scatter(y_test, y_pred_test)\n",
        "plt.xlabel('Actual Values')\n",
        "plt.ylabel('Predicted Values')\n",
        "plt.title('Actual vs Predicted Values')\n",
        "plt.show()\n"
      ],
      "metadata": {
        "colab": {
          "base_uri": "https://localhost:8080/",
          "height": 541
        },
        "id": "DQJq5MNdkVuO",
        "outputId": "f22cdcef-80c4-4ea3-e923-4f02f80cb3b9"
      },
      "execution_count": 10,
      "outputs": [
        {
          "output_type": "stream",
          "name": "stderr",
          "text": [
            "/usr/local/lib/python3.9/dist-packages/sklearn/ensemble/_base.py:166: FutureWarning: `base_estimator` was renamed to `estimator` in version 1.2 and will be removed in 1.4.\n",
            "  warnings.warn(\n"
          ]
        },
        {
          "output_type": "stream",
          "name": "stdout",
          "text": [
            "Test MSE: 14.5009\n",
            "Test R^2: 0.0319\n"
          ]
        },
        {
          "output_type": "display_data",
          "data": {
            "text/plain": [
              "<Figure size 640x480 with 1 Axes>"
            ],
            "image/png": "[encoded data removed]"
          },
          "metadata": {}
        }
      ]
    }
  ]
}